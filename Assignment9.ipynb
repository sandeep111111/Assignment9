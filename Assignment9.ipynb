{
 "cells": [
  {
   "cell_type": "code",
   "execution_count": 1,
   "id": "39cf5518-3b47-4c9e-8022-509e43b61324",
   "metadata": {},
   "outputs": [
    {
     "name": "stdout",
     "output_type": "stream",
     "text": [
      "We are inside test_class task\n",
      "Passed value:  100\n",
      "We are inside example_class task\n",
      "Passed value:  200\n",
      "test_obj is instance of Absclass?  True\n",
      "example_obj is instance of Absclass?  True\n"
     ]
    }
   ],
   "source": [
    "#Ans:\n",
    "#An Abstract class can contain the both method normal and abstract method. \n",
    "#An Abstract cannot be instantiated; we cannot create objects for the abstract class.\n",
    "#Abstraction is essential to hide the core functionality from the users. We have covered the all the basic concepts of Abstraction in Python.\n",
    "\n",
    "from abc import ABC, abstractmethod\n",
    "class Absclass(ABC):\n",
    "    def print(self,x):\n",
    "        print(\"Passed value: \", x)\n",
    "    @abstractmethod\n",
    "    def task(self):\n",
    "        print(\"We are inside Absclass task\")\n",
    " \n",
    "class test_class(Absclass):\n",
    "    def task(self):\n",
    "        print(\"We are inside test_class task\")\n",
    " \n",
    "class example_class(Absclass):\n",
    "    def task(self):\n",
    "        print(\"We are inside example_class task\")\n",
    " \n",
    "#object of test_class created\n",
    "test_obj = test_class()\n",
    "test_obj.task()\n",
    "test_obj.print(100)\n",
    " \n",
    "#object of example_class created\n",
    "example_obj = example_class()\n",
    "example_obj.task()\n",
    "example_obj.print(200)\n",
    " \n",
    "print(\"test_obj is instance of Absclass? \", isinstance(test_obj, Absclass))\n",
    "print(\"example_obj is instance of Absclass? \", isinstance(example_obj, Absclass))\n"
   ]
  },
  {
   "cell_type": "code",
   "execution_count": 2,
   "id": "48d887ab-1712-4688-8981-931724a0b35e",
   "metadata": {},
   "outputs": [
    {
     "name": "stdout",
     "output_type": "stream",
     "text": [
      "Jack Matte\n",
      "Bakers street, London HUAPK29971 01-777-523-342\n",
      "Chinese Python Programming A+\n"
     ]
    }
   ],
   "source": [
    "#Ans2:\n",
    "#Data abstraction in python and data encapsulation in python programming are related to each other. \n",
    "#The main point that is necessary here to note is that data abstraction is only possible to achieve through encapsulation.\n",
    "#Encapsulation means storing or placing data in a single place to make it easily readable and compact in one place.\n",
    "#Whereas data abstraction in python programming means to hide internal functionalities that are performing on the application using codes and to show only essential information (class attributes).\n",
    "\n",
    "class Person:\n",
    "    def __init__(self):\n",
    "        self.name = \"Jack Matte\"\n",
    "\n",
    "    def bio(self):\n",
    "        self.addr = \"Bakers street, London\"\n",
    "        self.taxInfo = \"HUAPK29971\"\n",
    "        self.contact = \"01-777-523-342\"\n",
    "        print(self.addr, self.taxInfo, self.contact)\n",
    "\n",
    "    def interest(self):\n",
    "        self.favFood = \"Chinese\"\n",
    "        self.hobbies = \"Python Programming\"\n",
    "        self.bloodGroup = \"A+\"\n",
    "        print(self.favFood, self.hobbies, self.bloodGroup)\n",
    "\n",
    "obj = Person()\n",
    "print(obj.name)\n",
    "obj.bio()\n",
    "obj.interest()"
   ]
  },
  {
   "cell_type": "code",
   "execution_count": 4,
   "id": "fd9f2227-ffb2-420d-90a1-3246fd86ebf2",
   "metadata": {},
   "outputs": [
    {
     "name": "stdout",
     "output_type": "stream",
     "text": [
      "Arriving at datagy.io headquarters!\n",
      "Reporting for duty at datagy.io!\n"
     ]
    }
   ],
   "source": [
    "#Ans3:\n",
    "#The main goal of the abstract base class is to provide a standardized way to test whether an object adheres to a given specification. \n",
    "#It can also prevent any attempt to instantiate a subclass that doesn’t override a particular method in the superclass. \n",
    "#And finally, using an abstract class, a class can derive identity from another class without any object inheritance.\n",
    "from abc import ABC, abstractmethod\n",
    "\n",
    "class Employee(ABC):\n",
    "    @abstractmethod\n",
    "    def arrive_at_work(self):\n",
    "        pass\n",
    "\n",
    "class Manager(Employee):\n",
    "    def arrive_at_work(self):\n",
    "        print(\"Arriving at datagy.io headquarters!\")\n",
    "\n",
    "class Supervisor(Employee):\n",
    "    def arrive_at_work(self):\n",
    "        print(\"Reporting for duty at datagy.io!\")\n",
    "\n",
    "nik = Manager()\n",
    "katie = Supervisor()\n",
    "nik.arrive_at_work()\n",
    "katie.arrive_at_work()"
   ]
  },
  {
   "cell_type": "code",
   "execution_count": 5,
   "id": "d5ddef8e-8b44-4470-b51e-dd09a63102cb",
   "metadata": {},
   "outputs": [],
   "source": [
    "#Ans4:\n",
    "#Data Abstraction in Python can be achieved through creating abstract classes and inheriting them later.\n",
    "#Before discussing what abstract classes are, let us have a brief introduction of inheritance.\n",
    "#Inheritance in OOP is a way through which one class inherits the attributes and methods of another class"
   ]
  },
  {
   "cell_type": "code",
   "execution_count": 7,
   "id": "8444af76-3650-4ad4-95f5-eb7e74b32ca6",
   "metadata": {},
   "outputs": [
    {
     "ename": "NameError",
     "evalue": "name 'WhateverError' is not defined",
     "output_type": "error",
     "traceback": [
      "\u001b[0;31m---------------------------------------------------------------------------\u001b[0m",
      "\u001b[0;31mAttributeError\u001b[0m                            Traceback (most recent call last)",
      "Cell \u001b[0;32mIn[8], line 9\u001b[0m, in \u001b[0;36mBird.feathers\u001b[0;34m(self)\u001b[0m\n\u001b[1;32m      8\u001b[0m \u001b[38;5;28;01mtry\u001b[39;00m:\n\u001b[0;32m----> 9\u001b[0m     \u001b[38;5;28;01mreturn\u001b[39;00m \u001b[38;5;28;43mself\u001b[39;49m\u001b[38;5;241;43m.\u001b[39;49m\u001b[43m_feathers\u001b[49m\n\u001b[1;32m     10\u001b[0m \u001b[38;5;28;01mexcept\u001b[39;00m \u001b[38;5;167;01mAttributeError\u001b[39;00m:\n",
      "\u001b[0;31mAttributeError\u001b[0m: 'Bird' object has no attribute '_feathers'",
      "\nDuring handling of the above exception, another exception occurred:\n",
      "\u001b[0;31mNameError\u001b[0m                                 Traceback (most recent call last)",
      "Cell \u001b[0;32mIn[8], line 17\u001b[0m\n\u001b[1;32m     14\u001b[0m     \u001b[38;5;28;01mdef\u001b[39;00m \u001b[38;5;21m__init__\u001b[39m(\u001b[38;5;28mself\u001b[39m):\n\u001b[1;32m     15\u001b[0m         \u001b[38;5;28mself\u001b[39m\u001b[38;5;241m.\u001b[39m_feathers \u001b[38;5;241m=\u001b[39m \u001b[38;5;124m'\u001b[39m\u001b[38;5;124mquill\u001b[39m\u001b[38;5;124m'\u001b[39m\n\u001b[0;32m---> 17\u001b[0m \u001b[43mBird\u001b[49m\u001b[43m(\u001b[49m\u001b[43m)\u001b[49m\u001b[38;5;241;43m.\u001b[39;49m\u001b[43mfeathers\u001b[49m\n\u001b[1;32m     18\u001b[0m Eagle()\u001b[38;5;241m.\u001b[39mfeathers\n",
      "Cell \u001b[0;32mIn[8], line 11\u001b[0m, in \u001b[0;36mBird.feathers\u001b[0;34m(self)\u001b[0m\n\u001b[1;32m      9\u001b[0m     \u001b[38;5;28;01mreturn\u001b[39;00m \u001b[38;5;28mself\u001b[39m\u001b[38;5;241m.\u001b[39m_feathers\n\u001b[1;32m     10\u001b[0m \u001b[38;5;28;01mexcept\u001b[39;00m \u001b[38;5;167;01mAttributeError\u001b[39;00m:\n\u001b[0;32m---> 11\u001b[0m     \u001b[38;5;28;01mraise\u001b[39;00m \u001b[43mWhateverError\u001b[49m(\u001b[38;5;124m'\u001b[39m\u001b[38;5;124mNo feathers\u001b[39m\u001b[38;5;124m'\u001b[39m)\n",
      "\u001b[0;31mNameError\u001b[0m: name 'WhateverError' is not defined"
     ]
    }
   ],
   "source": [
    "#Ans5:\n",
    "#The abc system doesn't include a way to declare an abstract instance variable. \n",
    "#The code that determines whether a class is concrete or abstract has to run before any instances exist; \n",
    "#it can inspect a class for methods and properties easily enough, but it has no way to tell whether instances would have any particular instance attribute.\n",
    "class Bird(object):\n",
    "    @property\n",
    "    def feathers(self):\n",
    "        try:\n",
    "            return self._feathers\n",
    "        except AttributeError:\n",
    "            raise WhateverError('No feathers')  # maybe obfuscate inner structure\n",
    "\n",
    "class Eagle(Bird):\n",
    "    def __init__(self):\n",
    "        self._feathers = 'quill'\n",
    "\n",
    "Bird().feathers\n",
    "WhateverError: No feather\n",
    "Eagle().feathers"
   ]
  },
  {
   "cell_type": "code",
   "execution_count": null,
   "id": "0d8a8a36-96a8-4988-8209-1ef4081190b7",
   "metadata": {},
   "outputs": [],
   "source": []
  }
 ],
 "metadata": {
  "kernelspec": {
   "display_name": "Python 3 (ipykernel)",
   "language": "python",
   "name": "python3"
  },
  "language_info": {
   "codemirror_mode": {
    "name": "ipython",
    "version": 3
   },
   "file_extension": ".py",
   "mimetype": "text/x-python",
   "name": "python",
   "nbconvert_exporter": "python",
   "pygments_lexer": "ipython3",
   "version": "3.10.8"
  }
 },
 "nbformat": 4,
 "nbformat_minor": 5
}
